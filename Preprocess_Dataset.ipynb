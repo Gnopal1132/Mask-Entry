{
 "cells": [
  {
   "cell_type": "raw",
   "id": "dfc0b2e5",
   "metadata": {},
   "source": [
    "# Step 1: To create the basic directories\n",
    "# Step 2: To install opencv and getting the images from webcam\n",
    "# Step 3: To install the github repo for labelling the bounding box"
   ]
  },
  {
   "cell_type": "code",
   "execution_count": 1,
   "id": "db27a826",
   "metadata": {},
   "outputs": [],
   "source": [
    "import os\n",
    "import uuid       \n",
    "import time"
   ]
  },
  {
   "cell_type": "code",
   "execution_count": 2,
   "id": "726ef3c6",
   "metadata": {},
   "outputs": [],
   "source": [
    "IMAGES = os.path.join(\"Workspace\",\"Images\")"
   ]
  },
  {
   "cell_type": "code",
   "execution_count": 3,
   "id": "ca09c909",
   "metadata": {},
   "outputs": [
    {
     "data": {
      "text/plain": [
       "'Workspace\\\\Images'"
      ]
     },
     "execution_count": 3,
     "metadata": {},
     "output_type": "execute_result"
    }
   ],
   "source": [
    "IMAGES"
   ]
  },
  {
   "cell_type": "code",
   "execution_count": 4,
   "id": "46db8a33",
   "metadata": {},
   "outputs": [],
   "source": [
    "if not os.path.exists(IMAGES):\n",
    "    if os.name == 'nt':\n",
    "        !mkdir {IMAGES}\n",
    "    else:    #os.name returns 'posix'\n",
    "        !mkdir -p {IMAGES}"
   ]
  },
  {
   "cell_type": "code",
   "execution_count": 5,
   "id": "114713e3",
   "metadata": {},
   "outputs": [],
   "source": [
    "classes = ['Wearing_Mask','No_Mask','Wrong_Mask']\n",
    "instances = 5"
   ]
  },
  {
   "cell_type": "code",
   "execution_count": 6,
   "id": "ad375c80",
   "metadata": {},
   "outputs": [],
   "source": [
    "for class_ in classes:\n",
    "    temp = os.path.join(IMAGES,class_)\n",
    "    if not os.path.exists(temp):\n",
    "        if os.name == 'nt':\n",
    "            !mkdir {temp}\n",
    "        else:    #os.name returns 'posix'\n",
    "            !mkdir -p {temp}"
   ]
  },
  {
   "cell_type": "code",
   "execution_count": 9,
   "id": "ed8082ce",
   "metadata": {},
   "outputs": [],
   "source": [
    "import cv2"
   ]
  },
  {
   "cell_type": "code",
   "execution_count": 11,
   "id": "81702a6d",
   "metadata": {},
   "outputs": [
    {
     "name": "stdout",
     "output_type": "stream",
     "text": [
      "Image are about to be taken.\n",
      "Image number: 0 for Class:Wearing_Mask is about to be taken in 5 seconds.\n",
      "Image number: 0 for Class:Wearing_Mask was successfully taken\n",
      "Image number: 1 for Class:Wearing_Mask is about to be taken in 5 seconds.\n",
      "Image number: 1 for Class:Wearing_Mask was successfully taken\n",
      "Image number: 2 for Class:Wearing_Mask is about to be taken in 5 seconds.\n",
      "Image number: 2 for Class:Wearing_Mask was successfully taken\n",
      "Image number: 3 for Class:Wearing_Mask is about to be taken in 5 seconds.\n",
      "Image number: 3 for Class:Wearing_Mask was successfully taken\n",
      "Image number: 4 for Class:Wearing_Mask is about to be taken in 5 seconds.\n",
      "Image number: 4 for Class:Wearing_Mask was successfully taken\n",
      "Image number: 0 for Class:No_Mask is about to be taken in 5 seconds.\n",
      "Image number: 0 for Class:No_Mask was successfully taken\n",
      "Image number: 1 for Class:No_Mask is about to be taken in 5 seconds.\n",
      "Image number: 1 for Class:No_Mask was successfully taken\n",
      "Image number: 2 for Class:No_Mask is about to be taken in 5 seconds.\n",
      "Image number: 2 for Class:No_Mask was successfully taken\n",
      "Image number: 3 for Class:No_Mask is about to be taken in 5 seconds.\n",
      "Image number: 3 for Class:No_Mask was successfully taken\n",
      "Image number: 4 for Class:No_Mask is about to be taken in 5 seconds.\n",
      "Image number: 4 for Class:No_Mask was successfully taken\n",
      "Image number: 0 for Class:Wrong_Mask is about to be taken in 5 seconds.\n",
      "Image number: 0 for Class:Wrong_Mask was successfully taken\n",
      "Image number: 1 for Class:Wrong_Mask is about to be taken in 5 seconds.\n",
      "Image number: 1 for Class:Wrong_Mask was successfully taken\n",
      "Image number: 2 for Class:Wrong_Mask is about to be taken in 5 seconds.\n",
      "Image number: 2 for Class:Wrong_Mask was successfully taken\n",
      "Image number: 3 for Class:Wrong_Mask is about to be taken in 5 seconds.\n",
      "Image number: 3 for Class:Wrong_Mask was successfully taken\n",
      "Image number: 4 for Class:Wrong_Mask is about to be taken in 5 seconds.\n",
      "Image number: 4 for Class:Wrong_Mask was successfully taken\n"
     ]
    }
   ],
   "source": [
    "print(\"Image are about to be taken.\")\n",
    "time.sleep(2)\n",
    "for instance_class in classes:\n",
    "    cam_object = cv2.VideoCapture(0)     #Creates the CamVideo object to read the images\n",
    "    for i in range(instances):\n",
    "        print(f\"Image number: {i} for Class:{instance_class} is about to be taken in 5 seconds.\")\n",
    "        time.sleep(5)\n",
    "        ret,frame = cam_object.read()  # Grabs, decodes and returns the next video frame.\n",
    "        IMG_PATH = os.path.join(IMAGES,instance_class,instance_class+\"{}.jpg\".format(uuid.uuid1()))\n",
    "        cv2.imwrite(IMG_PATH,frame)   \n",
    "        #Writes the images to directory\n",
    "        cv2.imshow('Frame',frame)\n",
    "        print(f\"Image number: {i} for Class:{instance_class} was successfully taken\")\n",
    "    \n",
    "    # To quit it out\n",
    "    if cv2.waitKey(1) & 0xFF == ord('q'):\n",
    "        break\n",
    "cam_object.release()\n",
    "cv2.destroyAllWindows()"
   ]
  },
  {
   "cell_type": "code",
   "execution_count": null,
   "id": "da09c075",
   "metadata": {},
   "outputs": [],
   "source": [
    "# Now the task to follow ahead\n",
    "# Step 0: First execute this jupyter file fully !\n",
    "# Step 1: Create a directory inside Workspace called Label imager\n",
    "# Step 2: clone the github library by \"!git https://github.com/tzutalin/labelImg {PATH_OF_LABEL_IMAGER}\n",
    "# Step 3: Visit this github page to install some prerequisites needed to run the label imager. Its easy just read the README file.\n",
    "# Step 4: After opening the label imager. Open the directory of the captured images seperately\n",
    "# Step 5: Choose the directory and annotate every image\n",
    "# Step 6: Create the bounding box and label it as \"'Wearing_Mask' or 'No_Mask' or 'Wrong_Mask'\"\n",
    "# Step 7: Save the annotation file\n"
   ]
  },
  {
   "cell_type": "code",
   "execution_count": 6,
   "id": "5e7d9371",
   "metadata": {},
   "outputs": [],
   "source": [
    "# Now lets Label the Image using Label Imager\n",
    "LABEL_IMAGER = os.path.join(\"Workspace\",\"LabelImager\")\n",
    "if not os.path.exists(LABEL_IMAGER):\n",
    "    if os.name == 'nt':\n",
    "        !mkdir {LABEL_IMAGER}\n",
    "    elif os.name == 'posix':\n",
    "        !mkdir -p {LABEL_IMAGER}"
   ]
  },
  {
   "cell_type": "code",
   "execution_count": 13,
   "id": "b78e1bb3",
   "metadata": {},
   "outputs": [
    {
     "name": "stderr",
     "output_type": "stream",
     "text": [
      "fatal: destination path 'Workspace\\LabelImager' already exists and is not an empty directory.\n"
     ]
    }
   ],
   "source": [
    "!git clone \"https://github.com/tzutalin/labelImg\" {LABEL_IMAGER}"
   ]
  },
  {
   "cell_type": "code",
   "execution_count": 14,
   "id": "e5ec0b92",
   "metadata": {},
   "outputs": [
    {
     "name": "stdout",
     "output_type": "stream",
     "text": [
      "Collecting pyqt5\n",
      "  Using cached PyQt5-5.15.4-cp36.cp37.cp38.cp39-none-win_amd64.whl (6.8 MB)\n",
      "Collecting lxml\n",
      "  Using cached lxml-4.6.3-cp37-cp37m-win_amd64.whl (3.5 MB)\n",
      "Collecting PyQt5-sip<13,>=12.8\n",
      "  Using cached PyQt5_sip-12.9.0-cp37-cp37m-win_amd64.whl (62 kB)\n",
      "Collecting PyQt5-Qt5>=5.15\n",
      "  Using cached PyQt5_Qt5-5.15.2-py3-none-win_amd64.whl (50.1 MB)\n",
      "Installing collected packages: PyQt5-sip, PyQt5-Qt5, pyqt5, lxml\n",
      "Successfully installed PyQt5-Qt5-5.15.2 PyQt5-sip-12.9.0 lxml-4.6.3 pyqt5-5.15.4\n"
     ]
    }
   ],
   "source": [
    "!pip install pyqt5 lxml"
   ]
  },
  {
   "cell_type": "code",
   "execution_count": 15,
   "id": "12774994",
   "metadata": {},
   "outputs": [],
   "source": [
    "if os.name == 'posix':\n",
    "    !make qt5py3\n",
    "elif os.name == 'nt':\n",
    "    !cd {LABEL_IMAGER} && pyrcc5 -o libs/resources.py resources.qrc"
   ]
  },
  {
   "cell_type": "code",
   "execution_count": 7,
   "id": "3f74ba65",
   "metadata": {},
   "outputs": [
    {
     "name": "stdout",
     "output_type": "stream",
     "text": [
      "Image:C:\\Users\\Gopu\\Documents\\FaceDetection\\Workspace\\Images\\No_Mask\\No_Mask (1).jpg -> Annotation:C:/Users/Gopu/Documents/FaceDetection/Workspace/Images/No_Mask/No_Mask (1).xml\n",
      "Image:C:\\Users\\Gopu\\Documents\\FaceDetection\\Workspace\\Images\\No_Mask\\No_Mask (2).jpg -> Annotation:C:/Users/Gopu/Documents/FaceDetection/Workspace/Images/No_Mask/No_Mask (2).xml\n",
      "Image:C:\\Users\\Gopu\\Documents\\FaceDetection\\Workspace\\Images\\No_Mask\\No_Mask (3).jpg -> Annotation:C:/Users/Gopu/Documents/FaceDetection/Workspace/Images/No_Mask/No_Mask (3).xml\n",
      "Image:C:\\Users\\Gopu\\Documents\\FaceDetection\\Workspace\\Images\\No_Mask\\No_Mask (4).jpg -> Annotation:C:/Users/Gopu/Documents/FaceDetection/Workspace/Images/No_Mask/No_Mask (4).xml\n",
      "Image:C:\\Users\\Gopu\\Documents\\FaceDetection\\Workspace\\Images\\No_Mask\\No_Mask (5).jpg -> Annotation:C:/Users/Gopu/Documents/FaceDetection/Workspace/Images/No_Mask/No_Mask (5).xml\n",
      "Image:C:\\Users\\Gopu\\Documents\\FaceDetection\\Workspace\\Images\\No_Mask\\No_Maskaac67222-e08b-11eb-a86d-8c8590b23a16.jpg -> Annotation:C:/Users/Gopu/Documents/FaceDetection/Workspace/Images/No_Mask/No_Maskaac67222-e08b-11eb-a86d-8c8590b23a16.xml\n",
      "Image:C:\\Users\\Gopu\\Documents\\FaceDetection\\Workspace\\Images\\No_Mask\\No_Maskb3bb8908-e08b-11eb-a86d-8c8590b23a16.jpg -> Annotation:C:/Users/Gopu/Documents/FaceDetection/Workspace/Images/No_Mask/No_Maskb3bb8908-e08b-11eb-a86d-8c8590b23a16.xml\n",
      "Image:C:\\Users\\Gopu\\Documents\\FaceDetection\\Workspace\\Images\\No_Mask\\No_Maskbcb0a99e-e08b-11eb-a86d-8c8590b23a16.jpg -> Annotation:C:/Users/Gopu/Documents/FaceDetection/Workspace/Images/No_Mask/No_Maskbcb0a99e-e08b-11eb-a86d-8c8590b23a16.xml\n",
      "Image:C:\\Users\\Gopu\\Documents\\FaceDetection\\Workspace\\Images\\No_Mask\\No_Maskc5a59a14-e08b-11eb-a86d-8c8590b23a16.jpg -> Annotation:C:/Users/Gopu/Documents/FaceDetection/Workspace/Images/No_Mask/No_Maskc5a59a14-e08b-11eb-a86d-8c8590b23a16.xml\n",
      "Image:C:\\Users\\Gopu\\Documents\\FaceDetection\\Workspace\\Images\\No_Mask\\No_Maskce9b5eb0-e08b-11eb-a86d-8c8590b23a16.jpg -> Annotation:C:/Users/Gopu/Documents/FaceDetection/Workspace/Images/No_Mask/No_Maskce9b5eb0-e08b-11eb-a86d-8c8590b23a16.xml\n",
      "Image:C:\\Users\\Gopu\\Documents\\FaceDetection\\Workspace\\Images\\No_Mask\\No_Maskd7909602-e08b-11eb-a86d-8c8590b23a16.jpg -> Annotation:C:/Users/Gopu/Documents/FaceDetection/Workspace/Images/No_Mask/No_Maskd7909602-e08b-11eb-a86d-8c8590b23a16.xml\n",
      "Image:C:\\Users\\Gopu\\Documents\\FaceDetection\\Workspace\\Images\\No_Mask\\No_Maske08ae690-e08b-11eb-a86d-8c8590b23a16.jpg -> Annotation:C:/Users/Gopu/Documents/FaceDetection/Workspace/Images/No_Mask/No_Maske08ae690-e08b-11eb-a86d-8c8590b23a16.xml\n",
      "Image:C:\\Users\\Gopu\\Documents\\FaceDetection\\Workspace\\Images\\No_Mask\\No_Maske98254b8-e08b-11eb-a86d-8c8590b23a16.jpg -> Annotation:C:/Users/Gopu/Documents/FaceDetection/Workspace/Images/No_Mask/No_Maske98254b8-e08b-11eb-a86d-8c8590b23a16.xml\n",
      "Image:C:\\Users\\Gopu\\Documents\\FaceDetection\\Workspace\\Images\\No_Mask\\No_Maskf282ce08-e08b-11eb-a86d-8c8590b23a16.jpg -> Annotation:C:/Users/Gopu/Documents/FaceDetection/Workspace/Images/No_Mask/No_Maskf282ce08-e08b-11eb-a86d-8c8590b23a16.xml\n",
      "Image:C:\\Users\\Gopu\\Documents\\FaceDetection\\Workspace\\Images\\No_Mask\\No_Maskfb79bbca-e08b-11eb-a86d-8c8590b23a16.jpg -> Annotation:C:/Users/Gopu/Documents/FaceDetection/Workspace/Images/No_Mask/No_Maskfb79bbca-e08b-11eb-a86d-8c8590b23a16.xml\n",
      "Image:C:\\Users\\Gopu\\Documents\\FaceDetection\\Workspace\\Images\\Wearing_Mask\\Wearing_Mask6bf1b3f4-e08b-11eb-a86d-8c8590b23a16.jpg -> Annotation:C:/Users/Gopu/Documents/FaceDetection/Workspace/Images/Wearing_Mask/Wearing_Mask6bf1b3f4-e08b-11eb-a86d-8c8590b23a16.xml\n",
      "Cancel creation.\n",
      "Image:C:\\Users\\Gopu\\Documents\\FaceDetection\\Workspace\\Images\\Wearing_Mask\\Wearing_Mask7de0d874-e08b-11eb-a86d-8c8590b23a16.jpg -> Annotation:C:/Users/Gopu/Documents/FaceDetection/Workspace/Images/Wearing_Mask/Wearing_Mask7de0d874-e08b-11eb-a86d-8c8590b23a16.xml\n",
      "Image:C:\\Users\\Gopu\\Documents\\FaceDetection\\Workspace\\Images\\Wearing_Mask\\Wearing_Mask8fcceb9a-e08b-11eb-a86d-8c8590b23a16.jpg -> Annotation:C:/Users/Gopu/Documents/FaceDetection/Workspace/Images/Wearing_Mask/Wearing_Mask8fcceb9a-e08b-11eb-a86d-8c8590b23a16.xml\n",
      "Image:C:\\Users\\Gopu\\Documents\\FaceDetection\\Workspace\\Images\\Wearing_Mask\\Wearing_Mask50fc649a-e08b-11eb-a86d-8c8590b23a16.jpg -> Annotation:C:/Users/Gopu/Documents/FaceDetection/Workspace/Images/Wearing_Mask/Wearing_Mask50fc649a-e08b-11eb-a86d-8c8590b23a16.xml\n",
      "Image:C:\\Users\\Gopu\\Documents\\FaceDetection\\Workspace\\Images\\Wearing_Mask\\Wearing_Mask59fc53fc-e08b-11eb-a86d-8c8590b23a16.jpg -> Annotation:C:/Users/Gopu/Documents/FaceDetection/Workspace/Images/Wearing_Mask/Wearing_Mask59fc53fc-e08b-11eb-a86d-8c8590b23a16.xml\n",
      "Image:C:\\Users\\Gopu\\Documents\\FaceDetection\\Workspace\\Images\\Wearing_Mask\\Wearing_Mask62f75362-e08b-11eb-a86d-8c8590b23a16.jpg -> Annotation:C:/Users/Gopu/Documents/FaceDetection/Workspace/Images/Wearing_Mask/Wearing_Mask62f75362-e08b-11eb-a86d-8c8590b23a16.xml\n",
      "Image:C:\\Users\\Gopu\\Documents\\FaceDetection\\Workspace\\Images\\Wearing_Mask\\Wearing_Mask74ec2494-e08b-11eb-a86d-8c8590b23a16.jpg -> Annotation:C:/Users/Gopu/Documents/FaceDetection/Workspace/Images/Wearing_Mask/Wearing_Mask74ec2494-e08b-11eb-a86d-8c8590b23a16.xml\n",
      "Image:C:\\Users\\Gopu\\Documents\\FaceDetection\\Workspace\\Images\\Wearing_Mask\\Wearing_Mask86d661d8-e08b-11eb-a86d-8c8590b23a16.jpg -> Annotation:C:/Users/Gopu/Documents/FaceDetection/Workspace/Images/Wearing_Mask/Wearing_Mask86d661d8-e08b-11eb-a86d-8c8590b23a16.xml\n",
      "Image:C:\\Users\\Gopu\\Documents\\FaceDetection\\Workspace\\Images\\Wearing_Mask\\Wearing_Mask98c1bff0-e08b-11eb-a86d-8c8590b23a16.jpg -> Annotation:C:/Users/Gopu/Documents/FaceDetection/Workspace/Images/Wearing_Mask/Wearing_Mask98c1bff0-e08b-11eb-a86d-8c8590b23a16.xml\n",
      "Cancel creation.\n",
      "Image:C:\\Users\\Gopu\\Documents\\FaceDetection\\Workspace\\Images\\Wearing_Mask\\Wearing_Mask (4).jpg -> Annotation:C:/Users/Gopu/Documents/FaceDetection/Workspace/Images/Wearing_Mask/Wearing_Mask (4).xml\n",
      "Image:C:\\Users\\Gopu\\Documents\\FaceDetection\\Workspace\\Images\\Wearing_Mask\\Wearing_Mask (5).jpg -> Annotation:C:/Users/Gopu/Documents/FaceDetection/Workspace/Images/Wearing_Mask/Wearing_Mask (5).xml\n",
      "Image:C:\\Users\\Gopu\\Documents\\FaceDetection\\Workspace\\Images\\Wearing_Mask\\Wearing_Mask (6).jpg -> Annotation:C:/Users/Gopu/Documents/FaceDetection/Workspace/Images/Wearing_Mask/Wearing_Mask (6).xml\n",
      "Image:C:\\Users\\Gopu\\Documents\\FaceDetection\\Workspace\\Images\\Wearing_Mask\\Wearing_Mask (7).jpg -> Annotation:C:/Users/Gopu/Documents/FaceDetection/Workspace/Images/Wearing_Mask/Wearing_Mask (7).xml\n",
      "Image:C:\\Users\\Gopu\\Documents\\FaceDetection\\Workspace\\Images\\Wearing_Mask\\Wearing_Mask (8).jpg -> Annotation:C:/Users/Gopu/Documents/FaceDetection/Workspace/Images/Wearing_Mask/Wearing_Mask (8).xml\n",
      "Image:C:\\Users\\Gopu\\Documents\\FaceDetection\\Workspace\\Images\\Wearing_Mask\\Wearing_Maska1b7e92c-e08b-11eb-a86d-8c8590b23a16.jpg -> Annotation:C:/Users/Gopu/Documents/FaceDetection/Workspace/Images/Wearing_Mask/Wearing_Maska1b7e92c-e08b-11eb-a86d-8c8590b23a16.xml\n",
      "Image:C:\\Users\\Gopu\\Documents\\FaceDetection\\Workspace\\Images\\Wearing_Mask\\Wearing_Mask8fcceb9a-e08b-11eb-a86d-8c8590b23a16.jpg -> Annotation:C:/Users/Gopu/Documents/FaceDetection/Workspace/Images/Wearing_Mask/Wearing_Mask8fcceb9a-e08b-11eb-a86d-8c8590b23a16.xml\n",
      "Image:C:\\Users\\Gopu\\Documents\\FaceDetection\\Workspace\\Images\\Wrong_Mask\\Wrong_Mask0d75a88e-e08c-11eb-a86d-8c8590b23a16.jpg -> Annotation:C:/Users/Gopu/Documents/FaceDetection/Workspace/Images/Wrong_Mask/Wrong_Mask0d75a88e-e08c-11eb-a86d-8c8590b23a16.xml\n",
      "Image:C:\\Users\\Gopu\\Documents\\FaceDetection\\Workspace\\Images\\Wrong_Mask\\Wrong_Mask1f649ea6-e08c-11eb-a86d-8c8590b23a16.jpg -> Annotation:C:/Users/Gopu/Documents/FaceDetection/Workspace/Images/Wrong_Mask/Wrong_Mask1f649ea6-e08c-11eb-a86d-8c8590b23a16.xml\n",
      "Image:C:\\Users\\Gopu\\Documents\\FaceDetection\\Workspace\\Images\\Wrong_Mask\\Wrong_Mask3a4b1c5e-e08c-11eb-a86d-8c8590b23a16.jpg -> Annotation:C:/Users/Gopu/Documents/FaceDetection/Workspace/Images/Wrong_Mask/Wrong_Mask3a4b1c5e-e08c-11eb-a86d-8c8590b23a16.xml\n",
      "Image:C:\\Users\\Gopu\\Documents\\FaceDetection\\Workspace\\Images\\Wrong_Mask\\Wrong_Mask4c39efda-e08c-11eb-a86d-8c8590b23a16.jpg -> Annotation:C:/Users/Gopu/Documents/FaceDetection/Workspace/Images/Wrong_Mask/Wrong_Mask4c39efda-e08c-11eb-a86d-8c8590b23a16.xml\n",
      "Image:C:\\Users\\Gopu\\Documents\\FaceDetection\\Workspace\\Images\\Wrong_Mask\\Wrong_Mask047eab7c-e08c-11eb-a86d-8c8590b23a16.jpg -> Annotation:C:/Users/Gopu/Documents/FaceDetection/Workspace/Images/Wrong_Mask/Wrong_Mask047eab7c-e08c-11eb-a86d-8c8590b23a16.xml\n",
      "Image:C:\\Users\\Gopu\\Documents\\FaceDetection\\Workspace\\Images\\Wrong_Mask\\Wrong_Mask166ac44c-e08c-11eb-a86d-8c8590b23a16.jpg -> Annotation:C:/Users/Gopu/Documents/FaceDetection/Workspace/Images/Wrong_Mask/Wrong_Mask166ac44c-e08c-11eb-a86d-8c8590b23a16.xml\n",
      "Image:C:\\Users\\Gopu\\Documents\\FaceDetection\\Workspace\\Images\\Wrong_Mask\\Wrong_Mask285a38e0-e08c-11eb-a86d-8c8590b23a16.jpg -> Annotation:C:/Users/Gopu/Documents/FaceDetection/Workspace/Images/Wrong_Mask/Wrong_Mask285a38e0-e08c-11eb-a86d-8c8590b23a16.xml\n",
      "Image:C:\\Users\\Gopu\\Documents\\FaceDetection\\Workspace\\Images\\Wrong_Mask\\Wrong_Mask552fbfd4-e08c-11eb-a86d-8c8590b23a16.jpg -> Annotation:C:/Users/Gopu/Documents/FaceDetection/Workspace/Images/Wrong_Mask/Wrong_Mask552fbfd4-e08c-11eb-a86d-8c8590b23a16.xml\n",
      "Image:C:\\Users\\Gopu\\Documents\\FaceDetection\\Workspace\\Images\\Wrong_Mask\\Wrong_Mask4344f2bc-e08c-11eb-a86d-8c8590b23a16.jpg -> Annotation:C:/Users/Gopu/Documents/FaceDetection/Workspace/Images/Wrong_Mask/Wrong_Mask4344f2bc-e08c-11eb-a86d-8c8590b23a16.xml\n",
      "Image:C:\\Users\\Gopu\\Documents\\FaceDetection\\Workspace\\Images\\Wrong_Mask\\Wrong_Mask31522c78-e08c-11eb-a86d-8c8590b23a16.jpg -> Annotation:C:/Users/Gopu/Documents/FaceDetection/Workspace/Images/Wrong_Mask/Wrong_Mask31522c78-e08c-11eb-a86d-8c8590b23a16.xml\n",
      "Image:C:\\Users\\Gopu\\Documents\\FaceDetection\\Workspace\\Images\\Wrong_Mask\\Wrong_Mask (6).jpg -> Annotation:C:/Users/Gopu/Documents/FaceDetection/Workspace/Images/Wrong_Mask/Wrong_Mask (6).xml\n",
      "Image:C:\\Users\\Gopu\\Documents\\FaceDetection\\Workspace\\Images\\Wrong_Mask\\Wrong_Mask (7).jpg -> Annotation:C:/Users/Gopu/Documents/FaceDetection/Workspace/Images/Wrong_Mask/Wrong_Mask (7).xml\n",
      "Cancel creation.\n",
      "Image:C:\\Users\\Gopu\\Documents\\FaceDetection\\Workspace\\Images\\Wrong_Mask\\Wrong_Mask (8).jpg -> Annotation:C:/Users/Gopu/Documents/FaceDetection/Workspace/Images/Wrong_Mask/Wrong_Mask (8).xml\n",
      "Image:C:\\Users\\Gopu\\Documents\\FaceDetection\\Workspace\\Images\\Wrong_Mask\\Wrong_Mask (9).jpg -> Annotation:C:/Users/Gopu/Documents/FaceDetection/Workspace/Images/Wrong_Mask/Wrong_Mask (9).xml\n",
      "Image:C:\\Users\\Gopu\\Documents\\FaceDetection\\Workspace\\Images\\Wrong_Mask\\Wrong_Mask (10).jpg -> Annotation:C:/Users/Gopu/Documents/FaceDetection/Workspace/Images/Wrong_Mask/Wrong_Mask (10).xml\n"
     ]
    }
   ],
   "source": [
    "!cd {LABEL_IMAGER} && python labelImg.py"
   ]
  },
  {
   "cell_type": "code",
   "execution_count": 8,
   "id": "6afeeee3",
   "metadata": {},
   "outputs": [],
   "source": [
    "TEST = os.path.join(\"Workspace\",\"Images\",\"Test\")\n",
    "TRAIN = os.path.join(\"Workspace\",\"Images\",\"Train\")"
   ]
  },
  {
   "cell_type": "code",
   "execution_count": 9,
   "id": "58c75025",
   "metadata": {},
   "outputs": [],
   "source": [
    "for path in [TRAIN,TEST]:\n",
    "    if not os.path.exists(path):\n",
    "        if os.name == 'posix':\n",
    "            !mkdir -p {path}\n",
    "        else:\n",
    "            !mkdir {path}"
   ]
  },
  {
   "cell_type": "code",
   "execution_count": 10,
   "id": "95241700",
   "metadata": {},
   "outputs": [],
   "source": [
    "TAR_PATH = os.path.join(\"Workspace\",\"Images\",\"Data.tar.gz\")"
   ]
  },
  {
   "cell_type": "code",
   "execution_count": 11,
   "id": "ba47e72e",
   "metadata": {},
   "outputs": [],
   "source": [
    "!tar -czf {TAR_PATH} {TRAIN} {TEST}"
   ]
  },
  {
   "cell_type": "code",
   "execution_count": null,
   "id": "a0a3744f",
   "metadata": {},
   "outputs": [],
   "source": []
  }
 ],
 "metadata": {
  "kernelspec": {
   "display_name": "deep_library",
   "language": "python",
   "name": "deep_library"
  },
  "language_info": {
   "codemirror_mode": {
    "name": "ipython",
    "version": 3
   },
   "file_extension": ".py",
   "mimetype": "text/x-python",
   "name": "python",
   "nbconvert_exporter": "python",
   "pygments_lexer": "ipython3",
   "version": "3.9.6"
  }
 },
 "nbformat": 4,
 "nbformat_minor": 5
}
